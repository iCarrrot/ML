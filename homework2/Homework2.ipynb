{
 "cells": [
  {
   "cell_type": "markdown",
   "metadata": {
    "colab_type": "text",
    "id": "tkKY6us_cCg4"
   },
   "source": [
    "# Homework 2\n",
    "\n",
    "**For exercises in the week 20-25.11.19**\n",
    "\n",
    "**Points: 6 + 1b**\n",
    "\n",
    "Please solve the problems at home and bring to class a [declaration form](http://ii.uni.wroc.pl/~jmi/Dydaktyka/misc/kupony-klasyczne.pdf) to indicate which problems you are willing to present on the blackboard.\n",
    "\n"
   ]
  },
  {
   "cell_type": "markdown",
   "metadata": {},
   "source": [
    "### Declartation\n",
    "\n",
    "| Exercise || 1 | 2 | 3 | 4 |  5  | 6 | 7 | 8 |\n",
    "|----------||---|---|---|---| --- |---|---|---|\n",
    "| Points   ||   | 1 |   | 1 | 0.5 |   | 1 |   |"
   ]
  },
  {
   "cell_type": "markdown",
   "metadata": {
    "colab_type": "text",
    "id": "8rdqrcVvNTv0"
   },
   "source": [
    "## Problem 1 [1p]\n",
    "\n",
    "Let $(x^{(i)},y^{(i)})$ be a data sample with $x^{(i)}\\in\\mathbb{R}^D$, $y^{(i)}\\in\\mathbb{R}$. Let $\\Theta \\in\\mathbb{R}^D$ a parameter vector.\n",
    "\n",
    "Find the closed form solution $\\Theta^*$ to \n",
    "\n",
    "$$\n",
    "\\min_\\Theta \\left(\\frac{1}{2}\\sum_i (\\Theta^Tx^{(i)} - y^{(i)})^2 + \\frac{\\lambda}{2}\\sum_{d=1}^D \\Theta_d^2\\right).\n",
    "$$"
   ]
  },
  {
   "cell_type": "markdown",
   "metadata": {
    "colab_type": "text",
    "id": "4PMPpxChQHnR"
   },
   "source": [
    "## Problem 2 [1p]\n",
    "Let $v\\in\\mathbb{R}^D$ be a vector. Define the gradient of $f(v)\\in\\mathbb{R}$ with respect to $v$ to be $\\frac{\\partial f}{\\partial v} = \\left[\\frac{\\partial f(v)}{\\partial v_1}, \\frac{\\partial f(v)}{\\partial v_2}, ..., \\frac{\\partial f(v)}{\\partial v_D}\\right]$\n",
    "\n",
    "Find the following functions' gradients with respect to vector $[x, y, z]^T$:\n",
    "1. $f_1([x, y, z]^T) = x + y$\n",
    "2. $f_2([x, y, z]^T) = xy$\n",
    "3. $f_3([x, y, z]^T) = x^2y^2$\n",
    "4. $f_4([x, y, z]^T) = (x + y)^2$\n",
    "5. $f_5([x, y, z]^T) = x^4 + x^2 y z + x y^2 z + z^4$\n",
    "6. $f_6([x, y, z]^T) = e^{x + 2y}$\n",
    "7. $f_7([x, y, z]^T) = \\frac{1}{x y^2}$\n",
    "8. $f_8([x, y, z]^T) = ax + by + c$\n",
    "9. $f_9([x, y, z]^T) = \\tanh(ax + by + c)$"
   ]
  },
  {
   "cell_type": "markdown",
   "metadata": {},
   "source": [
    "### Ans:\n",
    "1. [1, 1, 0]\n",
    "2. [y, x, 0]\n",
    "3. [$2y^2x$, $2x^2y$, 0]\n",
    "4. [$2x + 2y$, $2x + 2y$, 0] \n",
    "5. [$4x^3 +2yzx +y^2z$, $2xzy + zx^2$, $3x^4 + x^2y + xy^2$]\n",
    "6. [$e^{x + 2y}$, $2e^{x + 2y}$, 0]\n",
    "7. [$-\\frac{1}{y^2x^2}$, $-\\frac{2}{xy^3}$, 0]\n",
    "8. [$a$, $b$, 0]\n",
    "9. [$a*sech^2(ax + by + c)$, $b*sech^2(ax + by + c)$, 0]"
   ]
  },
  {
   "cell_type": "markdown",
   "metadata": {
    "colab_type": "text",
    "id": "TH9nPvyCMu27"
   },
   "source": [
    "## Problem 3 [0.5p]\n",
    "\n",
    "Find the following functions' gradients or Jacobians with respect to vector $\\mathbf{x}$, where $\\mathbf{x}, \\mathbf{b} \\in \\mathbb{R}^{n}$, $\\mathbf{W} \\in \\mathbb{R}^{n \\times n}$:\n",
    "\n",
    "1. $\\mathbf{W} \\mathbf{x} + \\mathbf{b}$\n",
    "2. $\\mathbf{x}^T \\mathbf{W} \\mathbf{x}$,"
   ]
  },
  {
   "cell_type": "markdown",
   "metadata": {
    "colab_type": "text",
    "id": "8sYUtEqUQWYC"
   },
   "source": [
    "## Problem 4 [1p]\n",
    "\n",
    "Find the derivative of\n",
    "$-\\log(S(\\mathbf{x})_j)$, where $S$ is the\n",
    "    softmax function\n",
    "    (https://en.wikipedia.org/wiki/Softmax_function) and we are\n",
    "    interested in the derivative over the $j$-th output of the\n",
    "    Softmax."
   ]
  },
  {
   "cell_type": "markdown",
   "metadata": {},
   "source": [
    "### Ans:\n",
    "$$\n",
    "(-log(S(x_j)))' = - \\frac{1}{S(x_j)} * S'(x_j) = - \\frac{1}{S(x_j)} * (\\frac{e^{x_j}}{\\sum_i e^{x_i}})' = \n",
    "$$\n",
    "\n",
    "$$\n",
    "= - \\frac{1}{S(x_j)} * \\frac{(e^{x_j})' * (\\sum_i e^{x_i}) - e^{x_j} * (\\sum_i e^{x_i})'}{(\\sum_i e^{x_i})^2} =\n",
    "$$\n",
    "\n",
    "$$\n",
    "= - \\frac{\\sum_i e^{x_i}}{e^{x_j}} * \\frac{e^{x_j} * \\sum_i e^{x_i} - e^{x_j} * e^{x_j}}{(\\sum_i e^{x_i})^2} =\n",
    "$$\n",
    "\n",
    "$$\n",
    "= \\frac{\\sum_i e^{x_i} - e^{x_j}}{\\sum_i e^{x_i}} = S(x_j) - 1\n",
    "$$"
   ]
  },
  {
   "cell_type": "markdown",
   "metadata": {
    "colab_type": "text",
    "id": "w_Nd4O2PP5mq"
   },
   "source": [
    "## Problem 5 [0.5p]\n",
    "\n",
    "Consider a dataset with 400 examples of class C1 and 400 of class C2. \n",
    "Let tree A have 2 leaves with class distributions:\n",
    "\n",
    "| Tree A   | C1    | C2  |\n",
    "|----------|-------|-----|\n",
    "| Leaf 1   | 100   | 300 |\n",
    "| Leaf 2   | 300   | 100 |\n",
    "\n",
    "and let tree B have 2 leaves with class distribution:\n",
    "\n",
    "| Tree B   | C1    | C2  |\n",
    "|----------|-------|-----|\n",
    "| Leaf 1   | 200   | 400 |\n",
    "| Leaf 2   | 200   |   0 |\n",
    "\n",
    "What is the misclassification rate for both trees? Which tree is more pure according to Gini or Infogain?"
   ]
  },
  {
   "cell_type": "markdown",
   "metadata": {},
   "source": [
    "### Ans:"
   ]
  },
  {
   "cell_type": "code",
   "execution_count": 1,
   "metadata": {},
   "outputs": [
    {
     "data": {
      "text/plain": [
       "(0.25, 0.25)"
      ]
     },
     "execution_count": 1,
     "metadata": {},
     "output_type": "execute_result"
    }
   ],
   "source": [
    "# misclassification rate: \n",
    "1/2*1/4 + 1/2 * 1/4, 1/2 * 1/2 + 1/2 * 0 "
   ]
  },
  {
   "cell_type": "code",
   "execution_count": 6,
   "metadata": {},
   "outputs": [
    {
     "data": {
      "text/plain": [
       "(0.375, 0.2962962962962963)"
      ]
     },
     "execution_count": 6,
     "metadata": {},
     "output_type": "execute_result"
    }
   ],
   "source": [
    "import pandas as pd\n",
    "import numpy as np\n",
    "def entropy(counts):\n",
    "    _sum = np.sum(counts.values, axis=0)\n",
    "    return -np.sum(counts/_sum * np.log2(counts/_sum), axis=0)\n",
    "\n",
    "def gini(counts):\n",
    "#     print(type(counts))\n",
    "#     print(counts)\n",
    "    _sum = np.sum(counts.values, axis=0)\n",
    "    return np.sum(counts/_sum * (1 - counts/_sum), axis=0)\n",
    "\n",
    "def mean_err_rate(counts):\n",
    "    _sum = np.sum(counts.values, axis=0)\n",
    "    return np.min(counts/_sum, axis=0)\n",
    "\n",
    "\n",
    "data1 = pd.DataFrame.from_dict({\"c1\": [100,300], \"c2\": [300,100]}).transpose()\n",
    "data2 = pd.DataFrame.from_dict({\"c1\": [200,200], \"c2\": [400,0]}).transpose()\n",
    "\n",
    "np.average(gini(data1)), np.average(gini(data2), weights=[2/3, 1/3])"
   ]
  },
  {
   "cell_type": "code",
   "execution_count": 7,
   "metadata": {},
   "outputs": [
    {
     "name": "stderr",
     "output_type": "stream",
     "text": [
      "/Users/michal/anaconda3/lib/python3.7/site-packages/ipykernel_launcher.py:5: RuntimeWarning: divide by zero encountered in log2\n",
      "  \"\"\"\n"
     ]
    },
    {
     "data": {
      "text/plain": [
       "(0.8112781244591328, 0.612197222702993)"
      ]
     },
     "execution_count": 7,
     "metadata": {},
     "output_type": "execute_result"
    }
   ],
   "source": [
    "np.average(entropy(data1)), np.average(entropy(data2), weights=[2/3, 1/3])"
   ]
  },
  {
   "cell_type": "markdown",
   "metadata": {
    "colab_type": "text",
    "id": "X0BwK5qnaxav"
   },
   "source": [
    "## Problem 6 [1p]\n",
    "\n",
    "Consider regresion problem, with $M$ predictors $h_m(x)$ trained to aproximate a target $y$. Define the error to be $\\epsilon_m(x) = h_m(x) - y$.\n",
    "\n",
    "Suppose you train $M$ independent classifiers with average least squares error\n",
    "$$\n",
    "E_{AV} = \\frac{1}{M}\\sum_{m=1}^M \\mathbb{E}_{x}[\\epsilon_m(x)^2].\n",
    "$$\n",
    "\n",
    "Further assume that the errors have zero mean and are uncorrelated:\n",
    "$$\n",
    "\\mathbb{E}_{x}[\\epsilon_m(x)] = 0\\qquad\\text{ and }\\qquad\\mathbb{E}_{x}[\\epsilon_m(x)\\epsilon_l(x)] = 0\\text{ for } m \\neq l\n",
    "$$\n",
    "\n",
    "Let the mean predictor be\n",
    "$$\n",
    "h_M(x) = \\frac{1}{M}h_m(x).\n",
    "$$\n",
    "\n",
    "What is the average error of $h_M(x)$?"
   ]
  },
  {
   "cell_type": "markdown",
   "metadata": {
    "colab_type": "text",
    "id": "kVFSEXy_g_fo"
   },
   "source": [
    "## Problem 7 [1p]\n",
    "\n",
    "Suppose you work on a binary classification problem and train 3 weak classifiers. You combine their prediction by voting. \n",
    "\n",
    "Can the training error rate of the voting ensemble smaller that the error rate of the individual weak predictors? Can it be larger? Show an example or prove infeasibility."
   ]
  },
  {
   "cell_type": "code",
   "execution_count": 11,
   "metadata": {},
   "outputs": [
    {
     "data": {
      "text/plain": [
       "<matplotlib.collections.PathCollection at 0x119e02400>"
      ]
     },
     "execution_count": 11,
     "metadata": {},
     "output_type": "execute_result"
    },
    {
     "data": {
      "image/png": "[encoded data removed]",
      "text/plain": [
       "<Figure size 432x288 with 1 Axes>"
      ]
     },
     "metadata": {
      "needs_background": "light"
     },
     "output_type": "display_data"
    }
   ],
   "source": [
    "import numpy as np\n",
    "import matplotlib.pyplot as plt\n",
    "A = np.arange(1,7)\n",
    "B = np.arange(5,11)\n",
    "C = np.hstack([np.arange(1,5),[7,8]])\n",
    "Res = np.arange(1, 11)\n",
    "ResC = ['g'] * 8  + ['r'] * 2 \n",
    "plt.scatter(A, A*0+1)\n",
    "plt.scatter(B, B*0+1.5)\n",
    "plt.scatter(C, C*0+2, c='purple')\n",
    "plt.scatter(Res, Res*0, c=ResC )\n"
   ]
  },
  {
   "cell_type": "markdown",
   "metadata": {},
   "source": [
    "### 3*60% -> 80%"
   ]
  },
  {
   "cell_type": "code",
   "execution_count": 14,
   "metadata": {},
   "outputs": [
    {
     "data": {
      "text/plain": [
       "<matplotlib.collections.PathCollection at 0x119f9ae80>"
      ]
     },
     "execution_count": 14,
     "metadata": {},
     "output_type": "execute_result"
    },
    {
     "data": {
      "image/png": "[encoded data removed]",
      "text/plain": [
       "<Figure size 432x288 with 1 Axes>"
      ]
     },
     "metadata": {
      "needs_background": "light"
     },
     "output_type": "display_data"
    }
   ],
   "source": [
    "import numpy as np\n",
    "import matplotlib.pyplot as plt\n",
    "A = np.arange(1,7)\n",
    "B = np.hstack([np.arange(1,5),[9,10]])\n",
    "C = np.hstack([np.arange(1,5),[7,8]])\n",
    "Res = np.arange(1, 11)\n",
    "ResC = ['g'] * 4  + ['r'] * 6\n",
    "plt.scatter(A, A*0+1)\n",
    "plt.scatter(B, B*0+1.5)\n",
    "plt.scatter(C, C*0+2, c='purple')\n",
    "plt.scatter(Res, Res*0, c=ResC )\n"
   ]
  },
  {
   "cell_type": "markdown",
   "metadata": {},
   "source": [
    "### 3*60% -> 40%"
   ]
  },
  {
   "cell_type": "markdown",
   "metadata": {
    "colab_type": "text",
    "id": "8IzGTnZuMxTB"
   },
   "source": [
    "## Problem 8 [1 bonus point]\n",
    "\n",
    "While on a walk, you notice that a locomotive has the serial number 50. Assuming that all locomotives used by PKP (the Polish railroad operator) are numbered using consecutive natural numbers, what is your estimate of $N$ the total number of locomotives operated by PKP?\n",
    "\n",
    "Tell why the Maximum Likelihood principle may not yield satisfactory results. \n",
    "\n",
    "Use the Bayesian approach to find the posterior distribution over\n",
    "  the number of locomotives. Then compute the expected count of\n",
    "  locomotives. For the prior use the power law:\n",
    "  \\begin{equation}\n",
    "  p(N) =  \\frac{1}{N^\\alpha}\\frac{1}{\\zeta(\\alpha,1)},\n",
    "  \\end{equation}\n",
    "  where the $\\zeta(s,q)=\\sum_{n=0}^{\\infty}\\frac{1}{(q+n)^s}$ is the\n",
    "  Hurwitz Zeta function\n",
    "  (https://en.wikipedia.org/wiki/Hurwitz_zeta_function)\n",
    "  available in Python as `scipy.special.zeta`. The use of the\n",
    "  power law is motivated by the observation that the frequency of\n",
    "  occurrence of a company is inversely proportional to its size (see\n",
    "  also: R.L. Axtell, Zipf distribution of US firm sizes\n",
    "  https://www.sciencemag.org/content/293/5536/1818).\n",
    "  \n",
    "  How would your estimate change after seeing 5 locomotives, with the\n",
    "  biggest serial number among them being 50?\n",
    "\n",
    "  **Note**: During the Second World War, a similar problem was\n",
    "  encountered while trying to estimate the total German tank\n",
    "  production from the serial numbers of captured machines. The\n",
    "  statistical estimates were the most precise!"
   ]
  }
 ],
 "metadata": {
  "colab": {
   "collapsed_sections": [],
   "name": "Homework2.ipynb",
   "provenance": []
  },
  "kernelspec": {
   "display_name": "Python 3",
   "language": "python",
   "name": "python3"
  },
  "language_info": {
   "codemirror_mode": {
    "name": "ipython",
    "version": 3
   },
   "file_extension": ".py",
   "mimetype": "text/x-python",
   "name": "python",
   "nbconvert_exporter": "python",
   "pygments_lexer": "ipython3",
   "version": "3.7.3"
  }
 },
 "nbformat": 4,
 "nbformat_minor": 1
}
